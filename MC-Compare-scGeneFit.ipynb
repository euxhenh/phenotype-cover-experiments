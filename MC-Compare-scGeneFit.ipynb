{
 "cells": [
  {
   "cell_type": "code",
   "execution_count": 2,
   "id": "42b8e9e0",
   "metadata": {},
   "outputs": [],
   "source": [
    "from scGeneFit.functions import *\n",
    "import numpy as np\n",
    "from tqdm import tqdm\n",
    "from sklearn.neighbors import NearestCentroid\n",
    "import seaborn as sns\n",
    "import json\n",
    "import matplotlib.pyplot as plt\n",
    "from phenotype_cover import GreedyPC\n",
    "from src.utils.plots import line_plot\n",
    "from sklearn.model_selection import train_test_split as tts"
   ]
  },
  {
   "cell_type": "markdown",
   "id": "61f38225",
   "metadata": {},
   "source": [
    "Parts of the code and hyperparameters were taken from https://github.com/solevillar/scGeneFit-python/blob/master/examples/scGeneFit_example.ipynb"
   ]
  },
  {
   "cell_type": "code",
   "execution_count": 2,
   "id": "f6141fd4",
   "metadata": {},
   "outputs": [],
   "source": [
    "data, labels, names = load_example_data(\"zeisel\")\n",
    "N, d = data.shape"
   ]
  },
  {
   "cell_type": "code",
   "execution_count": 3,
   "id": "ec83ff60",
   "metadata": {},
   "outputs": [],
   "source": [
    "clf=NearestCentroid()\n",
    "\n",
    "def performance(X_train, y_train, X_test, y_test, clf):\n",
    "    clf.fit(X_train, y_train)\n",
    "    return clf.score(X_test, y_test)"
   ]
  },
  {
   "cell_type": "markdown",
   "id": "b64f960f",
   "metadata": {},
   "source": [
    "<h2>Run scGeneFit</h2>"
   ]
  },
  {
   "cell_type": "code",
   "execution_count": 5,
   "id": "fdd1f07e",
   "metadata": {},
   "outputs": [],
   "source": [
    "num_markers_list = list(range(5, 51, 5))"
   ]
  },
  {
   "cell_type": "markdown",
   "id": "0f6f1afa",
   "metadata": {},
   "source": [
    "<h3>Method == 'centers'</h3>"
   ]
  },
  {
   "cell_type": "code",
   "execution_count": null,
   "id": "e4909415",
   "metadata": {},
   "outputs": [],
   "source": [
    "method = 'centers'\n",
    "redundancy = 0.1\n",
    "\n",
    "accuracy_list_centers = []\n",
    "\n",
    "for num_markers in tqdm(num_markers_list):\n",
    "    markers = get_markers_hierarchy(\n",
    "        data, labels,\n",
    "        num_markers,\n",
    "        method=method,\n",
    "        redundancy=redundancy)\n",
    "\n",
    "    accuracy_markers = performance(\n",
    "        data[:,markers], labels[0],\n",
    "        data[:,markers], labels[0],\n",
    "        clf)\n",
    "    accuracy_list_centers.append(accuracy_markers)"
   ]
  },
  {
   "cell_type": "markdown",
   "id": "f6f509c4",
   "metadata": {},
   "source": [
    "<h3>method == 'pairwise'</h3>"
   ]
  },
  {
   "cell_type": "code",
   "execution_count": null,
   "id": "8197804c",
   "metadata": {},
   "outputs": [],
   "source": [
    "method = 'pairwise'\n",
    "sampling_rate = 0.05\n",
    "n_neighbors = 3\n",
    "epsilon = 10\n",
    "max_constraints = 500\n",
    "use_centers = False\n",
    "\n",
    "accuracy_list_pairwise = []\n",
    "\n",
    "for num_markers in tqdm(num_markers_list):\n",
    "    markers= get_markers_hierarchy(\n",
    "        data, labels,\n",
    "        num_markers,\n",
    "        method=method,\n",
    "        sampling_rate=sampling_rate,\n",
    "        n_neighbors=n_neighbors,\n",
    "        epsilon=epsilon)\n",
    "\n",
    "    accuracy_markers = performance(\n",
    "        data[:, markers], labels[0],\n",
    "        data[:, markers], labels[0],\n",
    "        clf)\n",
    "    accuracy_list_pairwise.append(accuracy_markers)"
   ]
  },
  {
   "cell_type": "markdown",
   "id": "a5962e3d",
   "metadata": {},
   "source": [
    "<h3>method == 'pairwise centers'</h3>"
   ]
  },
  {
   "cell_type": "code",
   "execution_count": null,
   "id": "37105726",
   "metadata": {},
   "outputs": [],
   "source": [
    "method = 'pairwise_centers'\n",
    "sampling_rate = 0.05\n",
    "n_neighbors = 0\n",
    "epsilon = 10\n",
    "max_constraints = 500\n",
    "use_centers = True\n",
    "\n",
    "accuracy_list_pairwise_centers = []\n",
    "\n",
    "for num_markers in tqdm(num_markers_list):\n",
    "    markers = get_markers_hierarchy(\n",
    "        data, labels,\n",
    "        num_markers,\n",
    "        method=method, \n",
    "        sampling_rate=sampling_rate,\n",
    "        n_neighbors=n_neighbors,\n",
    "        epsilon=epsilon)\n",
    "    \n",
    "    accuracy_markers = performance(\n",
    "        data[:, markers], labels[0],\n",
    "        data[:, markers], labels[0],\n",
    "        clf)\n",
    "    accuracy_list_pairwise_centers.append(accuracy_markers)"
   ]
  },
  {
   "cell_type": "markdown",
   "id": "1723876b",
   "metadata": {},
   "source": [
    "<h2>Run G-PC</h2>"
   ]
  },
  {
   "cell_type": "code",
   "execution_count": null,
   "id": "4531bc52",
   "metadata": {},
   "outputs": [],
   "source": [
    "accuracy_list_gpc = []\n",
    "\n",
    "gpc = GreedyPC()\n",
    "gpc.fit(data, labels[0])\n",
    "\n",
    "num_markers_list_gpc = []\n",
    "\n",
    "for coverage in tqdm(range(2, 15)):\n",
    "    markers = gpc.select(coverage)\n",
    "    accuracy_markers = performance(data[:,markers], labels[0], data[:,markers], labels[0], clf)\n",
    "    accuracy_list_gpc.append(accuracy_markers)\n",
    "    num_markers_list_gpc.append(len(markers))"
   ]
  },
  {
   "cell_type": "markdown",
   "id": "8fb23362",
   "metadata": {},
   "source": [
    "<h2>Plot</h2>"
   ]
  },
  {
   "cell_type": "code",
   "execution_count": 3,
   "id": "3f340f3e",
   "metadata": {},
   "outputs": [],
   "source": [
    "# Load from json for convenience\n",
    "with open('data/MC/G-PC.json', 'r') as f:\n",
    "    d = json.load(f)\n",
    "    num_markers_list_gpc = np.array(list(d.keys())).astype(int)\n",
    "    accuracy_list_gpc = list(d.values())\n",
    "with open('data/MC/scGeneFit-centers.json', 'r') as f:\n",
    "    d = json.load(f)\n",
    "    num_markers_list = np.array(list(d.keys())).astype(int)\n",
    "    accuracy_list_centers = list(d.values())\n",
    "with open('data/MC/scGeneFit-pairwise.json', 'r') as f:\n",
    "    accuracy_list_pairwise = list(json.load(f).values())\n",
    "with open('data/MC/scGeneFit-pairwise-centers.json', 'r') as f:\n",
    "    accuracy_list_pairwise_centers = list(json.load(f).values())"
   ]
  },
  {
   "cell_type": "code",
   "execution_count": 73,
   "id": "1037ff70",
   "metadata": {},
   "outputs": [
    {
     "data": {
      "image/png": "[encoded data removed]",
      "text/plain": [
       "<Figure size 432x432 with 1 Axes>"
      ]
     },
     "metadata": {
      "needs_background": "light"
     },
     "output_type": "display_data"
    }
   ],
   "source": [
    "fig, ax = plt.subplots()\n",
    "\n",
    "line_plot(\n",
    "    xlist=[num_markers_list_gpc] + [num_markers_list] * 3,\n",
    "    ylist=[accuracy_list_gpc, accuracy_list_centers, accuracy_list_pairwise, accuracy_list_pairwise_centers],\n",
    "    labellist=['G-PC (ours)', 'scGeneFit (centers)', 'scGeneFit (pairwise)', 'scGeneFit (pairwise-centers)'],\n",
    "    ax=ax,\n",
    "    xlabel='N. Features Selected',\n",
    "    ylabel='Accuracy (Nearest Centroid)',\n",
    "    palette='husl',\n",
    ")\n",
    "\n",
    "fig.set_size_inches((6, 6))\n",
    "\n",
    "plt.savefig(f'data/MC/images/scGeneFit_comparison.svg', dpi=300, transparent=True, bbox_inches='tight')"
   ]
  }
 ],
 "metadata": {
  "kernelspec": {
   "display_name": "Python 3 (ipykernel)",
   "language": "python",
   "name": "python3"
  },
  "language_info": {
   "codemirror_mode": {
    "name": "ipython",
    "version": 3
   },
   "file_extension": ".py",
   "mimetype": "text/x-python",
   "name": "python",
   "nbconvert_exporter": "python",
   "pygments_lexer": "ipython3",
   "version": "3.8.11"
  }
 },
 "nbformat": 4,
 "nbformat_minor": 5
}
