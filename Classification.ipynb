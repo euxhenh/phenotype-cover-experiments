{
 "cells": [
  {
   "cell_type": "code",
   "execution_count": 1,
   "id": "c6c9fd95",
   "metadata": {},
   "outputs": [],
   "source": [
    "from src import Classifier\n",
    "import src.load as load\n",
    "\n",
    "import os, json, gc\n",
    "from pathlib import Path\n",
    "from sklearn.linear_model import LogisticRegression\n",
    "from sklearn.model_selection import train_test_split as tts\n",
    "from warnings import simplefilter\n",
    "import datetime\n",
    "# ignore all future warnings\n",
    "simplefilter(action='ignore', category=FutureWarning)"
   ]
  },
  {
   "cell_type": "code",
   "execution_count": 2,
   "id": "3e43e49e",
   "metadata": {},
   "outputs": [
    {
     "name": "stdout",
     "output_type": "stream",
     "text": [
      "adata.shape=(96301, 4443)\n",
      "Removed low count classes.\n",
      "adata.shape=(96196, 4443)\n",
      "33 label combinations.\n",
      "Range: -2.4008408 10.0\n"
     ]
    }
   ],
   "source": [
    "dataset = Path('IPF')\n",
    "os.makedirs('data', exist_ok=True)\n",
    "os.makedirs('data' / dataset, exist_ok=True)\n",
    "root = 'data' / dataset\n",
    "\n",
    "# Set these\n",
    "filter_genes = False # set to True for MC, HCA and False for IPF\n",
    "normalize = True\n",
    "log = True\n",
    "scale = True\n",
    "high_var = False # set to True for HCA and False for MC, IPF\n",
    "\n",
    "# Load data\n",
    "adata, key = load.dataset(\n",
    "    str(dataset),\n",
    "    normalize=normalize,\n",
    "    log=log,\n",
    "    scale=scale,\n",
    "    high_var=high_var,\n",
    "    filter_genes=filter_genes,\n",
    ")\n",
    "adata = load.remove_low_count_ct(adata, key, 50)\n",
    "print(\"Range:\", adata.X.min(), adata.X.max())"
   ]
  },
  {
   "cell_type": "markdown",
   "id": "7af60b5d",
   "metadata": {},
   "source": [
    "<h2>Train and Test</h2>"
   ]
  },
  {
   "cell_type": "code",
   "execution_count": 3,
   "id": "13b29606",
   "metadata": {},
   "outputs": [],
   "source": [
    "def train_and_test(\n",
    "        x_train, y_train,\n",
    "        x_test, y_test,\n",
    "        *,\n",
    "        feature_selector=None,\n",
    "        features=None,\n",
    "        json_path=None,\n",
    "        confusion_matrix_dir=None,\n",
    "        key=None,\n",
    "        base_classifier=None,\n",
    "        scale=False,\n",
    "        normalize=False):\n",
    "    \"\"\"Train and test a classifier. Dump the classification results\n",
    "    and confusion matrices into a json_path and confusion_matrix_dir.\n",
    "    \"\"\"\n",
    "    # use logistic regression if None\n",
    "    if base_classifier is None:\n",
    "        base_classifier = LogisticRegression(\n",
    "            max_iter=600, verbose=0, n_jobs=-1)\n",
    "    # build a classifier wrapper with extra functionality\n",
    "    wrap_classifier = Classifier(\n",
    "        base_classifier,\n",
    "        feature_selector=feature_selector,\n",
    "        features=features,\n",
    "        scale=scale,\n",
    "        normalize=normalize\n",
    "    )\n",
    "    # fit and save results\n",
    "    wrap_classifier.fit(x_train, y_train)\n",
    "    \n",
    "    if json_path is not None and confusion_matrix_dir is not None:\n",
    "        wrap_classifier.dump(\n",
    "            x_train, y_train,\n",
    "            x_test, y_test,\n",
    "            json_path=json_path,\n",
    "            confusion_matrix_dir=confusion_matrix_dir,\n",
    "            key=datetime.timestamp(datetime.now()) if key is None else key,\n",
    "            extras={'solution': (\n",
    "                feature_selector.get_support(indices=True)\n",
    "                if feature_selector is not None\n",
    "                else features\n",
    "            )})\n",
    "    else:\n",
    "        wrap_classifier.report(x_test, y_test)\n",
    "    print()\n",
    "    return wrap_classifier"
   ]
  },
  {
   "cell_type": "markdown",
   "id": "da5a33b3",
   "metadata": {},
   "source": [
    "<h2>Run Classification</h2>"
   ]
  },
  {
   "cell_type": "code",
   "execution_count": null,
   "id": "fd5867e0",
   "metadata": {},
   "outputs": [],
   "source": [
    "for rs in range(46, 47):\n",
    "    x_train, x_test = tts(\n",
    "        adata, random_state=rs,\n",
    "        stratify=adata.obs[key], train_size=0.5)\n",
    "    gc.collect()\n",
    "    \n",
    "    root = 'data' / dataset / 'RS' / f'rs{rs}'\n",
    "    method_list = [\n",
    "#         'GreedyCover',\n",
    "        'scGeneFit',\n",
    "#         'DT',\n",
    "#         'TopDE',\n",
    "#         'ReliefF',\n",
    "#         'Fval',\n",
    "#         'MI',\n",
    "#         'mRMR',\n",
    "#         'CrossEntropy',\n",
    "    ]\n",
    "    report_paths = [root / m / \"report.json\" for m in method_list]\n",
    "    reports = []\n",
    "    for report_path in report_paths:\n",
    "        with open(report_path, \"r\") as f:\n",
    "            reports.append(json.load(f))\n",
    "\n",
    "    for report, method in zip(reports, method_list):\n",
    "        coverage_list = list(report.keys())\n",
    "        for coverage in coverage_list:\n",
    "            solution = report[coverage]['solution']\n",
    "            basedir = root / method\n",
    "\n",
    "            _ = train_and_test(\n",
    "                x_train.X, x_train.obs[key],\n",
    "                x_test.X, x_test.obs[key],\n",
    "                features=solution,\n",
    "                json_path=basedir / 'logisticR.json',\n",
    "                confusion_matrix_dir=basedir / 'cm',\n",
    "                key=coverage,\n",
    "                scale=False,\n",
    "                normalize=False\n",
    "            )"
   ]
  },
  {
   "cell_type": "code",
   "execution_count": null,
   "id": "f5cc43d1",
   "metadata": {},
   "outputs": [],
   "source": []
  }
 ],
 "metadata": {
  "kernelspec": {
   "display_name": "Python 3 (ipykernel)",
   "language": "python",
   "name": "python3"
  },
  "language_info": {
   "codemirror_mode": {
    "name": "ipython",
    "version": 3
   },
   "file_extension": ".py",
   "mimetype": "text/x-python",
   "name": "python",
   "nbconvert_exporter": "python",
   "pygments_lexer": "ipython3",
   "version": "3.8.11"
  }
 },
 "nbformat": 4,
 "nbformat_minor": 5
}
